{
 "cells": [
  {
   "cell_type": "code",
   "execution_count": 1,
   "metadata": {},
   "outputs": [],
   "source": [
    "#NBA Sportsdataverse\n",
    "import csv\n",
    "import requests\n",
    "import sportsdataverse as sdv\n",
    "import pandas as pd\n",
    "import sqlite3\n",
    "\n",
    "\n",
    "#Connecting to the database\n",
    "sqlite_db = r\"nba.db\"\n",
    "conn = sqlite3.connect(sqlite_db)\n",
    "cur = conn.cursor()"
   ]
  },
  {
   "cell_type": "code",
   "execution_count": 2,
   "metadata": {},
   "outputs": [
    {
     "name": "stderr",
     "output_type": "stream",
     "text": [
      "100%|██████████| 1/1 [00:01<00:00,  1.40s/it]\n"
     ]
    }
   ],
   "source": [
    "#Importing the NBA Schedule\n",
    "nba_schedule = sdv.nba.load_nba_schedule(2002,2023)"
   ]
  },
  {
   "cell_type": "code",
   "execution_count": 6,
   "metadata": {},
   "outputs": [
    {
     "name": "stderr",
     "output_type": "stream",
     "text": [
      "100%|██████████| 11/11 [00:13<00:00,  1.24s/it]\n",
      "100%|██████████| 9/9 [00:10<00:00,  1.22s/it]\n"
     ]
    }
   ],
   "source": [
    "#importing the NBA Boxscores, as the data has a different structure, we will import the data in two parts\n",
    "boxscoredata = sdv.nba.load_nba_player_boxscore(seasons=range(2002,2013))\n",
    "boxscoredata2 = sdv.nba.load_nba_player_boxscore(seasons=range(2014,2023))"
   ]
  },
  {
   "cell_type": "code",
   "execution_count": 9,
   "metadata": {},
   "outputs": [],
   "source": [
    "#to merge the two data parts, we will drop the reason column from the second part of the data\n",
    "boxscoredata2 = boxscoredata2.drop([\"reason\"])"
   ]
  },
  {
   "cell_type": "code",
   "execution_count": 10,
   "metadata": {},
   "outputs": [
    {
     "ename": "AttributeError",
     "evalue": "'DataFrame' object has no attribute 'append'",
     "output_type": "error",
     "traceback": [
      "\u001b[1;31m---------------------------------------------------------------------------\u001b[0m",
      "\u001b[1;31mAttributeError\u001b[0m                            Traceback (most recent call last)",
      "\u001b[1;32m~\\AppData\\Local\\Temp\\ipykernel_23128\\1936931962.py\u001b[0m in \u001b[0;36m?\u001b[1;34m()\u001b[0m\n\u001b[1;32m----> 3\u001b[1;33m \u001b[0mboxscoredatadf\u001b[0m \u001b[1;33m=\u001b[0m \u001b[0mpd\u001b[0m\u001b[1;33m.\u001b[0m\u001b[0mDataFrame\u001b[0m\u001b[1;33m(\u001b[0m\u001b[0mboxscoredata\u001b[0m\u001b[1;33m)\u001b[0m\u001b[1;33m\u001b[0m\u001b[1;33m\u001b[0m\u001b[0m\n\u001b[0m\u001b[0;32m      4\u001b[0m \u001b[0mboxscoredata2df\u001b[0m \u001b[1;33m=\u001b[0m \u001b[0mpd\u001b[0m\u001b[1;33m.\u001b[0m\u001b[0mDataFrame\u001b[0m\u001b[1;33m(\u001b[0m\u001b[0mboxscoredata2\u001b[0m\u001b[1;33m)\u001b[0m\u001b[1;33m\u001b[0m\u001b[1;33m\u001b[0m\u001b[0m\n\u001b[0;32m      5\u001b[0m \u001b[0mboxscoredatadf\u001b[0m\u001b[1;33m.\u001b[0m\u001b[0mappend\u001b[0m\u001b[1;33m(\u001b[0m\u001b[0mboxscoredata2df\u001b[0m\u001b[1;33m)\u001b[0m\u001b[1;33m\u001b[0m\u001b[1;33m\u001b[0m\u001b[0m\n",
      "\u001b[1;32m~\\AppData\\Local\\Packages\\PythonSoftwareFoundation.Python.3.9_qbz5n2kfra8p0\\LocalCache\\local-packages\\Python39\\site-packages\\pandas\\core\\generic.py\u001b[0m in \u001b[0;36m?\u001b[1;34m(self, name)\u001b[0m\n\u001b[0;32m   6295\u001b[0m             \u001b[1;32mand\u001b[0m \u001b[0mname\u001b[0m \u001b[1;32mnot\u001b[0m \u001b[1;32min\u001b[0m \u001b[0mself\u001b[0m\u001b[1;33m.\u001b[0m\u001b[0m_accessors\u001b[0m\u001b[1;33m\u001b[0m\u001b[1;33m\u001b[0m\u001b[0m\n\u001b[0;32m   6296\u001b[0m             \u001b[1;32mand\u001b[0m \u001b[0mself\u001b[0m\u001b[1;33m.\u001b[0m\u001b[0m_info_axis\u001b[0m\u001b[1;33m.\u001b[0m\u001b[0m_can_hold_identifiers_and_holds_name\u001b[0m\u001b[1;33m(\u001b[0m\u001b[0mname\u001b[0m\u001b[1;33m)\u001b[0m\u001b[1;33m\u001b[0m\u001b[1;33m\u001b[0m\u001b[0m\n\u001b[0;32m   6297\u001b[0m         ):\n\u001b[0;32m   6298\u001b[0m             \u001b[1;32mreturn\u001b[0m \u001b[0mself\u001b[0m\u001b[1;33m[\u001b[0m\u001b[0mname\u001b[0m\u001b[1;33m]\u001b[0m\u001b[1;33m\u001b[0m\u001b[1;33m\u001b[0m\u001b[0m\n\u001b[1;32m-> 6299\u001b[1;33m         \u001b[1;32mreturn\u001b[0m \u001b[0mobject\u001b[0m\u001b[1;33m.\u001b[0m\u001b[0m__getattribute__\u001b[0m\u001b[1;33m(\u001b[0m\u001b[0mself\u001b[0m\u001b[1;33m,\u001b[0m \u001b[0mname\u001b[0m\u001b[1;33m)\u001b[0m\u001b[1;33m\u001b[0m\u001b[1;33m\u001b[0m\u001b[0m\n\u001b[0m",
      "\u001b[1;31mAttributeError\u001b[0m: 'DataFrame' object has no attribute 'append'"
     ]
    }
   ],
   "source": [
    "#Transforming the data into a dataframe\n",
    "boxscoredatadf = pd.DataFrame(boxscoredata)\n",
    "boxscoredata2df = pd.DataFrame(boxscoredata2)\n"
   ]
  },
  {
   "cell_type": "code",
   "execution_count": 11,
   "metadata": {},
   "outputs": [
    {
     "name": "stdout",
     "output_type": "stream",
     "text": [
      "shape: (5, 56)\n",
      "┌───────────┬────────┬────────────┬────────────┬───┬───────────┬───────────┬───────────┬───────────┐\n",
      "│ game_id   ┆ season ┆ season_typ ┆ game_date  ┆ … ┆ opponent_ ┆ opponent_ ┆ opponent_ ┆ opponent_ │\n",
      "│ ---       ┆ ---    ┆ e          ┆ ---        ┆   ┆ team_logo ┆ team_colo ┆ team_alte ┆ team_scor │\n",
      "│ i32       ┆ i32    ┆ ---        ┆ datetime[n ┆   ┆ ---       ┆ r         ┆ rnate_col ┆ e         │\n",
      "│           ┆        ┆ i32        ┆ s]         ┆   ┆ str       ┆ ---       ┆ or        ┆ ---       │\n",
      "│           ┆        ┆            ┆            ┆   ┆           ┆ str       ┆ ---       ┆ i32       │\n",
      "│           ┆        ┆            ┆            ┆   ┆           ┆           ┆ str       ┆           │\n",
      "╞═══════════╪════════╪════════════╪════════════╪═══╪═══════════╪═══════════╪═══════════╪═══════════╡\n",
      "│ 220612017 ┆ 2002   ┆ 3          ┆ 2002-06-12 ┆ … ┆ null      ┆ 06143F    ┆ ffffff    ┆ 107       │\n",
      "│           ┆        ┆            ┆ 00:00:00   ┆   ┆           ┆           ┆           ┆           │\n",
      "│ 220612017 ┆ 2002   ┆ 3          ┆ 2002-06-12 ┆ … ┆ null      ┆ 06143F    ┆ ffffff    ┆ 107       │\n",
      "│           ┆        ┆            ┆ 00:00:00   ┆   ┆           ┆           ┆           ┆           │\n",
      "│ 220612017 ┆ 2002   ┆ 3          ┆ 2002-06-12 ┆ … ┆ null      ┆ 06143F    ┆ ffffff    ┆ 107       │\n",
      "│           ┆        ┆            ┆ 00:00:00   ┆   ┆           ┆           ┆           ┆           │\n",
      "│ 220612017 ┆ 2002   ┆ 3          ┆ 2002-06-12 ┆ … ┆ null      ┆ 06143F    ┆ ffffff    ┆ 107       │\n",
      "│           ┆        ┆            ┆ 00:00:00   ┆   ┆           ┆           ┆           ┆           │\n",
      "│ 220612017 ┆ 2002   ┆ 3          ┆ 2002-06-12 ┆ … ┆ null      ┆ 06143F    ┆ ffffff    ┆ 107       │\n",
      "│           ┆        ┆            ┆ 00:00:00   ┆   ┆           ┆           ┆           ┆           │\n",
      "└───────────┴────────┴────────────┴────────────┴───┴───────────┴───────────┴───────────┴───────────┘\n",
      "     game_id  season  season_type  game_date            game_date_time  \\\n",
      "0  220612017    2002            3 2002-06-12 2002-06-12 21:00:00-04:00   \n",
      "1  220612017    2002            3 2002-06-12 2002-06-12 21:00:00-04:00   \n",
      "2  220612017    2002            3 2002-06-12 2002-06-12 21:00:00-04:00   \n",
      "3  220612017    2002            3 2002-06-12 2002-06-12 21:00:00-04:00   \n",
      "4  220612017    2002            3 2002-06-12 2002-06-12 21:00:00-04:00   \n",
      "\n",
      "   athlete_id athlete_display_name  team_id team_name team_location  ...  \\\n",
      "0         347         Robert Horry       13    Lakers   Los Angeles  ...   \n",
      "1         110          Kobe Bryant       13    Lakers   Los Angeles  ...   \n",
      "2         252             Rick Fox       13    Lakers   Los Angeles  ...   \n",
      "3         614     Shaquille O'Neal       13    Lakers   Los Angeles  ...   \n",
      "4         246         Derek Fisher       13    Lakers   Los Angeles  ...   \n",
      "\n",
      "  team_score  opponent_team_id  opponent_team_name  opponent_team_location  \\\n",
      "0        113                17                Nets              New Jersey   \n",
      "1        113                17                Nets              New Jersey   \n",
      "2        113                17                Nets              New Jersey   \n",
      "3        113                17                Nets              New Jersey   \n",
      "4        113                17                Nets              New Jersey   \n",
      "\n",
      "   opponent_team_display_name  opponent_team_abbreviation  opponent_team_logo  \\\n",
      "0             New Jersey Nets                          NJ                None   \n",
      "1             New Jersey Nets                          NJ                None   \n",
      "2             New Jersey Nets                          NJ                None   \n",
      "3             New Jersey Nets                          NJ                None   \n",
      "4             New Jersey Nets                          NJ                None   \n",
      "\n",
      "   opponent_team_color  opponent_team_alternate_color  opponent_team_score  \n",
      "0               06143F                         ffffff                  107  \n",
      "1               06143F                         ffffff                  107  \n",
      "2               06143F                         ffffff                  107  \n",
      "3               06143F                         ffffff                  107  \n",
      "4               06143F                         ffffff                  107  \n",
      "\n",
      "[5 rows x 56 columns]\n"
     ]
    }
   ],
   "source": [
    "#merging the two dataframes\n",
    "import polars as pl\n",
    "\n",
    "# Convert the dataframes to polars DataFrames\n",
    "boxscoredata_df = pl.from_pandas(boxscoredata.to_pandas())\n",
    "boxscoredata2_df = pl.from_pandas(boxscoredata2.to_pandas())\n",
    "\n",
    "# Concatenate the dataframes vertically\n",
    "combined_df = pl.concat([boxscoredata_df, boxscoredata2_df])\n",
    "\n",
    "# Print the combined dataframe\n",
    "print(combined_df.head())\n",
    "\n",
    "pandascombdf = combined_df.to_pandas()\n",
    "\n",
    "print(pandascombdf.head())\n"
   ]
  },
  {
   "cell_type": "code",
   "execution_count": 12,
   "metadata": {},
   "outputs": [
    {
     "data": {
      "text/plain": [
       "675114"
      ]
     },
     "execution_count": 12,
     "metadata": {},
     "output_type": "execute_result"
    }
   ],
   "source": [
    "#Exporting the final dataframe to the database\n",
    "pandascombdf.to_sql('nba_player_boxscore', conn, if_exists='replace', index = False)"
   ]
  }
 ],
 "metadata": {
  "kernelspec": {
   "display_name": "Python 3",
   "language": "python",
   "name": "python3"
  },
  "language_info": {
   "codemirror_mode": {
    "name": "ipython",
    "version": 3
   },
   "file_extension": ".py",
   "mimetype": "text/x-python",
   "name": "python",
   "nbconvert_exporter": "python",
   "pygments_lexer": "ipython3",
   "version": "3.9.13"
  }
 },
 "nbformat": 4,
 "nbformat_minor": 2
}
