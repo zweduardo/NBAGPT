{
 "cells": [
  {
   "cell_type": "code",
   "execution_count": 1,
   "metadata": {},
   "outputs": [],
   "source": [
    "from langchain_openai import ChatOpenAI\n",
    "\n",
    "# OpenAI\n",
    "llm = ChatOpenAI(api_key=\"OPEN-AI-API-KEY\", model=\"gpt-3.5-turbo\")"
   ]
  },
  {
   "cell_type": "code",
   "execution_count": 19,
   "metadata": {},
   "outputs": [],
   "source": [
    "from langchain_community.document_loaders import CSVLoader\n",
    "import sqlite3\n",
    "import pandas as pd\n",
    "\n",
    "# Connecting to SQLite Database\n",
    "sqlite_db = r\"nba.db\"\n",
    "conn = sqlite3.connect(sqlite_db)\n",
    "cur = conn.cursor()\n",
    "#Getting the data from the database and Transforming it into a CSV file for easier use by langchain\n",
    "df = cur.execute(\"SELECT athlete_display_name,COUNT(game_id) AS number_of_games, team_name,SUM(minutes),SUM(offensive_rebounds),SUM(defensive_rebounds),SUM(rebounds),SUM(assists),SUM(steals),SUM(blocks),SUM(turnovers),SUM(fouls),SUM(points),athlete_jersey,athlete_short_name,athlete_position_abbreviation FROM nba_player_boxscore GROUP BY athlete_display_name, team_name\").fetchall()\n",
    "df = pd.DataFrame(df, columns=[x[0] for x in cur.description])\n",
    "df = df.to_csv(r\"nba_player_boxscore.csv\", index=False)\n",
    "\n",
    "#loading the data into langchain\n",
    "loader = CSVLoader(file_path=r\"nba_player_boxscore.csv\")\n",
    "\n",
    "data = loader.load()\n",
    "\n"
   ]
  },
  {
   "cell_type": "code",
   "execution_count": 20,
   "metadata": {},
   "outputs": [],
   "source": [
    "from langchain.text_splitter import CharacterTextSplitter\n",
    "# Split the data into chunks of 100 characters with 10 characters overlap\n",
    "text_splitter = CharacterTextSplitter(\n",
    "    separator=\"\\n\",\n",
    "    chunk_size=100,\n",
    "    chunk_overlap=10,\n",
    "    length_function=len\n",
    ")\n",
    "\n",
    "docs = text_splitter.split_documents(data)"
   ]
  },
  {
   "cell_type": "code",
   "execution_count": 21,
   "metadata": {},
   "outputs": [],
   "source": [
    "from langchain.vectorstores import Chroma\n",
    "from langchain.embeddings.openai import OpenAIEmbeddings\n",
    "#using OpenAI embeddings to embed the data into vectors\n",
    "embedding = OpenAIEmbeddings(api_key=\"OPEN-AI-API-KEY\")\n",
    "\n",
    "persist_directory = 'docs/chroma/1/'\n",
    "\n",
    "vectordb = Chroma.from_documents(\n",
    "    documents=docs,\n",
    "    embedding=embedding,\n",
    "    persist_directory=persist_directory\n",
    ")"
   ]
  },
  {
   "cell_type": "code",
   "execution_count": 40,
   "metadata": {},
   "outputs": [
    {
     "name": "stdout",
     "output_type": "stream",
     "text": [
      "I don't have information about Lebron James' points scored in his seasons.\n"
     ]
    }
   ],
   "source": [
    "from langchain.chains import RetrievalQA\n",
    "\n",
    "#using the retrieval QA chain to answer questions\n",
    "chat_model = ChatOpenAI(openai_api_key=\"OPEN-AI-API-KEY\")\n",
    "\n",
    "qa_chain = RetrievalQA.from_chain_type(\n",
    "    chat_model,\n",
    "    retriever=vectordb.as_retriever()\n",
    ")\n",
    "#making a query to the model\n",
    "question = \"How many points Lebron James scored?\"\n",
    "result = qa_chain({\"query\": question})\n",
    "print(result[\"result\"])"
   ]
  }
 ],
 "metadata": {
  "kernelspec": {
   "display_name": "Python 3",
   "language": "python",
   "name": "python3"
  },
  "language_info": {
   "codemirror_mode": {
    "name": "ipython",
    "version": 3
   },
   "file_extension": ".py",
   "mimetype": "text/x-python",
   "name": "python",
   "nbconvert_exporter": "python",
   "pygments_lexer": "ipython3",
   "version": "3.9.13"
  }
 },
 "nbformat": 4,
 "nbformat_minor": 2
}
